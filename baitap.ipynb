{
 "cells": [
  {
   "cell_type": "code",
   "execution_count": 1,
   "source": [
    "import numpy as np"
   ],
   "outputs": [],
   "metadata": {}
  },
  {
   "cell_type": "code",
   "execution_count": 2,
   "source": [
    "y = np.array([0.,1.3,5. ,10.9, 18.9,28.7, 40.])\r\n",
    "print(y)\r\n",
    "t = np.array([0., 0.49, 1. ,1.5 , 2.08,2.55, 3.2])\r\n",
    "print(t)\r\n",
    "v = (y[1:] - y[:-1])/(t[1:]-t[:-1])\r\n",
    "print(v)\r\n",
    "\r\n"
   ],
   "outputs": [
    {
     "output_type": "stream",
     "name": "stdout",
     "text": [
      "[ 0.   1.3  5.  10.9 18.9 28.7 40. ]\n",
      "[0.   0.49 1.   1.5  2.08 2.55 3.2 ]\n",
      "[ 2.65306122  7.25490196 11.8        13.79310345 20.85106383 17.38461538]\n"
     ]
    }
   ],
   "metadata": {}
  },
  {
   "cell_type": "code",
   "execution_count": 3,
   "source": [
    "def print_vector(a):\r\n",
    "        for n in a:\r\n",
    "            print('{0:6.2f}'.format(n), end='')\r\n",
    "        print()"
   ],
   "outputs": [],
   "metadata": {}
  },
  {
   "cell_type": "code",
   "execution_count": 4,
   "source": [
    "print_vector(y)\r\n",
    "print_vector(t)\r\n",
    "print(''* 7, end='')\r\n",
    "print_vector(v)"
   ],
   "outputs": [
    {
     "output_type": "stream",
     "name": "stdout",
     "text": [
      "  0.00  1.30  5.00 10.90 18.90 28.70 40.00\n",
      "  0.00  0.49  1.00  1.50  2.08  2.55  3.20\n",
      "  2.65  7.25 11.80 13.79 20.85 17.38\n"
     ]
    }
   ],
   "metadata": {}
  },
  {
   "cell_type": "code",
   "execution_count": null,
   "source": [],
   "outputs": [],
   "metadata": {}
  }
 ],
 "metadata": {
  "orig_nbformat": 4,
  "language_info": {
   "name": "python",
   "version": "3.9.7",
   "mimetype": "text/x-python",
   "codemirror_mode": {
    "name": "ipython",
    "version": 3
   },
   "pygments_lexer": "ipython3",
   "nbconvert_exporter": "python",
   "file_extension": ".py"
  },
  "kernelspec": {
   "name": "python3",
   "display_name": "Python 3.9.7 64-bit"
  },
  "interpreter": {
   "hash": "ac59ebe37160ed0dfa835113d9b8498d9f09ceb179beaac4002f036b9467c963"
  }
 },
 "nbformat": 4,
 "nbformat_minor": 2
}