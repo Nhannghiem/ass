{
 "cells": [
  {
   "cell_type": "code",
   "execution_count": 3,
   "source": [
    "import numpy as np\r\n",
    "number =[1,2,3,4]\r\n",
    "arr_number= np.array(number)\r\n",
    "print(number, arr_number)"
   ],
   "outputs": [
    {
     "output_type": "stream",
     "name": "stdout",
     "text": [
      "[1, 2, 3, 4] [1 2 3 4]\n"
     ]
    }
   ],
   "metadata": {}
  },
  {
   "cell_type": "code",
   "execution_count": 10,
   "source": [
    "number = list(range(10,20))\r\n",
    "print(number)\r\n",
    "arr_number = np.arange(10,20)\r\n",
    "print(arr_number)\r\n",
    "arr_number = np.arange(10,20,2)\r\n",
    "print(arr_number)"
   ],
   "outputs": [
    {
     "output_type": "stream",
     "name": "stdout",
     "text": [
      "[10, 11, 12, 13, 14, 15, 16, 17, 18, 19]\n",
      "[10 11 12 13 14 15 16 17 18 19]\n",
      "[10 12 14 16 18]\n"
     ]
    }
   ],
   "metadata": {}
  },
  {
   "cell_type": "code",
   "execution_count": 21,
   "source": [
    "arr_number = np.linspace(0,1,10, endpoint= False)\r\n",
    "print(arr_number)\r\n",
    "arr_number = np.linspace(11,20,5, endpoint= False, dtype=int)\r\n",
    "print(arr_number)"
   ],
   "outputs": [
    {
     "output_type": "stream",
     "name": "stdout",
     "text": [
      "[0.  0.1 0.2 0.3 0.4 0.5 0.6 0.7 0.8 0.9]\n",
      "[11 12 14 16 18]\n"
     ]
    }
   ],
   "metadata": {}
  },
  {
   "cell_type": "code",
   "execution_count": 22,
   "source": [
    "a = np.zeros(5)\r\n",
    "print(a)\r\n",
    "b = np.ones(10,dtype=int)\r\n",
    "print(b)\r\n",
    "c=b*2\r\n",
    "print(c)"
   ],
   "outputs": [
    {
     "output_type": "stream",
     "name": "stdout",
     "text": [
      "[0. 0. 0. 0. 0.]\n",
      "[1 1 1 1 1 1 1 1 1 1]\n",
      "[2 2 2 2 2 2 2 2 2 2]\n"
     ]
    }
   ],
   "metadata": {}
  },
  {
   "cell_type": "code",
   "execution_count": 23,
   "source": [
    "b = [1,1,1,1,1]\r\n",
    "c = b*2\r\n",
    "ar= '*' * 10\r\n",
    "print(ar)\r\n",
    "print(c)"
   ],
   "outputs": [
    {
     "output_type": "stream",
     "name": "stdout",
     "text": [
      "**********\n",
      "[1, 1, 1, 1, 1, 1, 1, 1, 1, 1]\n"
     ]
    }
   ],
   "metadata": {}
  },
  {
   "cell_type": "code",
   "execution_count": 28,
   "source": [
    "a = np.linspace(0,1,10, endpoint=False)\r\n",
    "print(a)\r\n",
    "b = np.sin(a) + np.cos(a)\r\n",
    "print(b)\r\n",
    "c = b -a\r\n",
    "print(c)"
   ],
   "outputs": [
    {
     "output_type": "stream",
     "name": "stdout",
     "text": [
      "[0.  0.1 0.2 0.3 0.4 0.5 0.6 0.7 0.8 0.9]\n",
      "[1.         1.09483758 1.17873591 1.2508567  1.31047934 1.3570081\n",
      " 1.38997809 1.40905987 1.4140628  1.40493688]\n",
      "[1.         0.99483758 0.97873591 0.9508567  0.91047934 0.8570081\n",
      " 0.78997809 0.70905987 0.6140628  0.50493688]\n"
     ]
    }
   ],
   "metadata": {}
  },
  {
   "cell_type": "code",
   "execution_count": 29,
   "source": [
    "number = np.random.randint(0,1000,20)\r\n",
    "print(number)\r\n",
    "evens = number[number%2 ==0]\r\n",
    "print(evens)"
   ],
   "outputs": [
    {
     "output_type": "stream",
     "name": "stdout",
     "text": [
      "[575 554   6 645 287 392 652 424 293 151 267 713  10 568 706  46 778 161\n",
      " 250 761]\n",
      "[554   6 392 652 424  10 568 706  46 778 250]\n"
     ]
    }
   ],
   "metadata": {}
  },
  {
   "cell_type": "code",
   "execution_count": 34,
   "source": [
    "b_idex = number % 2 ==0\r\n",
    "print(b_idex)\r\n",
    "evens = number[b_idex]\r\n",
    "print(evens)"
   ],
   "outputs": [
    {
     "output_type": "stream",
     "name": "stdout",
     "text": [
      "[False  True  True False False  True  True  True False False False False\n",
      "  True  True  True  True  True False  True False]\n",
      "[554   6 392 652 424  10 568 706  46 778 250]\n"
     ]
    }
   ],
   "metadata": {}
  }
 ],
 "metadata": {
  "orig_nbformat": 4,
  "language_info": {
   "name": "python",
   "version": "3.9.7",
   "mimetype": "text/x-python",
   "codemirror_mode": {
    "name": "ipython",
    "version": 3
   },
   "pygments_lexer": "ipython3",
   "nbconvert_exporter": "python",
   "file_extension": ".py"
  },
  "kernelspec": {
   "name": "python3",
   "display_name": "Python 3.9.7 64-bit"
  },
  "interpreter": {
   "hash": "ac59ebe37160ed0dfa835113d9b8498d9f09ceb179beaac4002f036b9467c963"
  }
 },
 "nbformat": 4,
 "nbformat_minor": 2
}